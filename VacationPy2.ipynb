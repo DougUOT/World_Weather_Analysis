{
 "cells": [
  {
   "cell_type": "code",
   "execution_count": 1,
   "id": "e89518fa",
   "metadata": {},
   "outputs": [],
   "source": [
    "# Import the dependencies.\n",
    "import pandas as pd\n",
    "import gmaps\n",
    "import requests\n",
    "# Import the API key.\n",
    "from config import g_key"
   ]
  },
  {
   "cell_type": "code",
   "execution_count": 2,
   "id": "4b559a58",
   "metadata": {},
   "outputs": [
    {
     "data": {
      "text/html": [
       "<div>\n",
       "<style scoped>\n",
       "    .dataframe tbody tr th:only-of-type {\n",
       "        vertical-align: middle;\n",
       "    }\n",
       "\n",
       "    .dataframe tbody tr th {\n",
       "        vertical-align: top;\n",
       "    }\n",
       "\n",
       "    .dataframe thead th {\n",
       "        text-align: right;\n",
       "    }\n",
       "</style>\n",
       "<table border=\"1\" class=\"dataframe\">\n",
       "  <thead>\n",
       "    <tr style=\"text-align: right;\">\n",
       "      <th></th>\n",
       "      <th>City_ID</th>\n",
       "      <th>City</th>\n",
       "      <th>Lat</th>\n",
       "      <th>Lng</th>\n",
       "      <th>Max Temp</th>\n",
       "      <th>Humidity</th>\n",
       "      <th>Cloudiness</th>\n",
       "      <th>Wind Speed</th>\n",
       "      <th>Country</th>\n",
       "      <th>Date</th>\n",
       "    </tr>\n",
       "  </thead>\n",
       "  <tbody>\n",
       "    <tr>\n",
       "      <th>0</th>\n",
       "      <td>0</td>\n",
       "      <td>Punta Arenas</td>\n",
       "      <td>-53.1500</td>\n",
       "      <td>-70.9167</td>\n",
       "      <td>59.02</td>\n",
       "      <td>41</td>\n",
       "      <td>75</td>\n",
       "      <td>36.82</td>\n",
       "      <td>CL</td>\n",
       "      <td>2021-12-03 17:03:57</td>\n",
       "    </tr>\n",
       "    <tr>\n",
       "      <th>1</th>\n",
       "      <td>1</td>\n",
       "      <td>Fortuna</td>\n",
       "      <td>40.5982</td>\n",
       "      <td>-124.1573</td>\n",
       "      <td>45.52</td>\n",
       "      <td>100</td>\n",
       "      <td>75</td>\n",
       "      <td>8.05</td>\n",
       "      <td>US</td>\n",
       "      <td>2021-12-03 17:03:58</td>\n",
       "    </tr>\n",
       "    <tr>\n",
       "      <th>2</th>\n",
       "      <td>2</td>\n",
       "      <td>Litovko</td>\n",
       "      <td>49.2361</td>\n",
       "      <td>135.1742</td>\n",
       "      <td>-15.25</td>\n",
       "      <td>100</td>\n",
       "      <td>49</td>\n",
       "      <td>1.79</td>\n",
       "      <td>RU</td>\n",
       "      <td>2021-12-03 17:03:58</td>\n",
       "    </tr>\n",
       "    <tr>\n",
       "      <th>3</th>\n",
       "      <td>3</td>\n",
       "      <td>Pisco</td>\n",
       "      <td>-13.7000</td>\n",
       "      <td>-76.2167</td>\n",
       "      <td>71.65</td>\n",
       "      <td>73</td>\n",
       "      <td>0</td>\n",
       "      <td>6.91</td>\n",
       "      <td>PE</td>\n",
       "      <td>2021-12-03 17:03:58</td>\n",
       "    </tr>\n",
       "    <tr>\n",
       "      <th>4</th>\n",
       "      <td>4</td>\n",
       "      <td>Loudi</td>\n",
       "      <td>27.7344</td>\n",
       "      <td>111.9944</td>\n",
       "      <td>50.47</td>\n",
       "      <td>45</td>\n",
       "      <td>32</td>\n",
       "      <td>1.74</td>\n",
       "      <td>CN</td>\n",
       "      <td>2021-12-03 17:03:59</td>\n",
       "    </tr>\n",
       "  </tbody>\n",
       "</table>\n",
       "</div>"
      ],
      "text/plain": [
       "   City_ID          City      Lat       Lng  Max Temp  Humidity  Cloudiness  \\\n",
       "0        0  Punta Arenas -53.1500  -70.9167     59.02        41          75   \n",
       "1        1       Fortuna  40.5982 -124.1573     45.52       100          75   \n",
       "2        2       Litovko  49.2361  135.1742    -15.25       100          49   \n",
       "3        3         Pisco -13.7000  -76.2167     71.65        73           0   \n",
       "4        4         Loudi  27.7344  111.9944     50.47        45          32   \n",
       "\n",
       "   Wind Speed Country                 Date  \n",
       "0       36.82      CL  2021-12-03 17:03:57  \n",
       "1        8.05      US  2021-12-03 17:03:58  \n",
       "2        1.79      RU  2021-12-03 17:03:58  \n",
       "3        6.91      PE  2021-12-03 17:03:58  \n",
       "4        1.74      CN  2021-12-03 17:03:59  "
      ]
     },
     "execution_count": 2,
     "metadata": {},
     "output_type": "execute_result"
    }
   ],
   "source": [
    "# Store the CSV you saved created in part one into a DataFrame.\n",
    "city_data_df = pd.read_csv(\"weather_data/cities.csv\")\n",
    "city_data_df.head()"
   ]
  },
  {
   "cell_type": "code",
   "execution_count": 3,
   "id": "e2f15a9f",
   "metadata": {},
   "outputs": [
    {
     "data": {
      "text/plain": [
       "City_ID         int64\n",
       "City           object\n",
       "Lat           float64\n",
       "Lng           float64\n",
       "Max Temp      float64\n",
       "Humidity        int64\n",
       "Cloudiness      int64\n",
       "Wind Speed    float64\n",
       "Country        object\n",
       "Date           object\n",
       "dtype: object"
      ]
     },
     "execution_count": 3,
     "metadata": {},
     "output_type": "execute_result"
    }
   ],
   "source": [
    "city_data_df.dtypes"
   ]
  },
  {
   "cell_type": "code",
   "execution_count": 4,
   "id": "9d528397",
   "metadata": {},
   "outputs": [],
   "source": [
    "# Configure gmaps to use your Google API key.\n",
    "gmaps.configure(api_key=g_key)"
   ]
  },
  {
   "cell_type": "code",
   "execution_count": 6,
   "id": "7cf48cd9",
   "metadata": {},
   "outputs": [],
   "source": [
    "# Get the maximum temperature.\n",
    "max_temp = city_data_df[\"Max Temp\"]\n",
    "temps = []\n",
    "for temp in max_temp:\n",
    "    temps.append(max(temp, 0))"
   ]
  },
  {
   "cell_type": "code",
   "execution_count": 7,
   "id": "1a6585ee",
   "metadata": {},
   "outputs": [
    {
     "data": {
      "application/vnd.jupyter.widget-view+json": {
       "model_id": "4ac7dbece5304b869742951731cb645d",
       "version_major": 2,
       "version_minor": 0
      },
      "text/plain": [
       "Figure(layout=FigureLayout(height='420px'))"
      ]
     },
     "metadata": {},
     "output_type": "display_data"
    }
   ],
   "source": [
    "# 1. Assign the locations to an array of latitude and longitude pairs.\n",
    "locations = city_data_df[[\"Lat\", \"Lng\"]]\n",
    "\n",
    "# 2. Assign the weights variable to some values.\n",
    "temperatures = city_data_df[\"Humidity\"]\n",
    "max_temp = temperatures.max()\n",
    "\n",
    "# 3. Assign the figure variable to the gmaps.figure() attribute.\n",
    "fig = gmaps.figure()\n",
    "\n",
    "# 4. Assign the heatmap_layer variable to the heatmap_layer attribute and add in the locations.\n",
    "heatmap_layer = gmaps.heatmap_layer(locations, weights=temperatures)\n",
    "\n",
    "# 5. Add the heatmap layer.\n",
    "fig.add_layer(heatmap_layer)\n",
    "# 6. Call the figure to plot the data.\n",
    "fig"
   ]
  },
  {
   "cell_type": "code",
   "execution_count": 10,
   "id": "982422a8",
   "metadata": {},
   "outputs": [],
   "source": [
    "#Adjust Heatmap Zoom, Intensity, and Point Radius"
   ]
  },
  {
   "cell_type": "code",
   "execution_count": 11,
   "id": "92c36e64",
   "metadata": {},
   "outputs": [
    {
     "data": {
      "application/vnd.jupyter.widget-view+json": {
       "model_id": "b5965e050385418ca965d565b6db6867",
       "version_major": 2,
       "version_minor": 0
      },
      "text/plain": [
       "Figure(layout=FigureLayout(height='420px'))"
      ]
     },
     "metadata": {},
     "output_type": "display_data"
    }
   ],
   "source": [
    "# 1. Assign the locations to an array of latitude and longitude pairs.\n",
    "locations = city_data_df[[\"Lat\", \"Lng\"]]\n",
    "\n",
    "# 2. Assign the weights variable to some values.\n",
    "temperatures = city_data_df[\"Humidity\"]\n",
    "max_temp = temperatures.max()\n",
    "\n",
    "# 3. Assign the figure variable to the gmaps.figure() attribute.\n",
    "fig = gmaps.figure(center=(30.0, 31.0), zoom_level=1.5)\n",
    "\n",
    "# 4. Assign the heatmap_layer variable to the heatmap_layer attribute and add in the locations.\n",
    "heat_layer = gmaps.heatmap_layer(locations, weights=[max(temp, 0) for temp in temperatures])\n",
    "\n",
    "# 5. Add the heatmap layer.\n",
    "fig.add_layer(heatmap_layer)\n",
    "# 6. Call the figure to plot the data.\n",
    "fig"
   ]
  },
  {
   "cell_type": "code",
   "execution_count": 13,
   "id": "7cae83fc",
   "metadata": {},
   "outputs": [
    {
     "data": {
      "application/vnd.jupyter.widget-view+json": {
       "model_id": "6d84ab965c394009b2e7f5d1cd0d9567",
       "version_major": 2,
       "version_minor": 0
      },
      "text/plain": [
       "Figure(layout=FigureLayout(height='420px'))"
      ]
     },
     "metadata": {},
     "output_type": "display_data"
    }
   ],
   "source": [
    "# Heatmap of percent humidity\n",
    "locations = city_data_df[[\"Lat\", \"Lng\"]]\n",
    "humidity = city_data_df[\"Humidity\"]\n",
    "fig = gmaps.figure(center=(30.0, 31.0), zoom_level=1.5)\n",
    "heat_layer = gmaps.heatmap_layer(locations, weights=humidity, dissipating=False, max_intensity=300, point_radius=4)\n",
    "\n",
    "fig.add_layer(heat_layer)\n",
    "# Call the figure to plot the data.\n",
    "fig"
   ]
  },
  {
   "cell_type": "code",
   "execution_count": 14,
   "id": "aff4f954",
   "metadata": {},
   "outputs": [
    {
     "data": {
      "application/vnd.jupyter.widget-view+json": {
       "model_id": "6b6254ed469944bea66f7ae5acbcf275",
       "version_major": 2,
       "version_minor": 0
      },
      "text/plain": [
       "Figure(layout=FigureLayout(height='420px'))"
      ]
     },
     "metadata": {},
     "output_type": "display_data"
    }
   ],
   "source": [
    "# Create a Percent Cloudiness Heatmap\n",
    "locations = city_data_df[[\"Lat\", \"Lng\"]]\n",
    "clouds = city_data_df[\"Cloudiness\"] \n",
    "fig = gmaps.figure(center=(30.0, 31.0), zoom_level=1.5)\n",
    "heat_layer = gmaps.heatmap_layer(locations, weights=clouds, dissipating=False, max_intensity=300, point_radius=4)\n",
    "\n",
    "fig.add_layer(heat_layer)\n",
    "# Call the figure to plot the data.\n",
    "fig"
   ]
  },
  {
   "cell_type": "code",
   "execution_count": 15,
   "id": "40d6cffb",
   "metadata": {},
   "outputs": [
    {
     "data": {
      "application/vnd.jupyter.widget-view+json": {
       "model_id": "df2f663efd584e9488305b1de08621d8",
       "version_major": 2,
       "version_minor": 0
      },
      "text/plain": [
       "Figure(layout=FigureLayout(height='420px'))"
      ]
     },
     "metadata": {},
     "output_type": "display_data"
    }
   ],
   "source": [
    "# Create a Wind Speed Heatmap\n",
    "locations = city_data_df[[\"Lat\", \"Lng\"]]\n",
    "wind = city_data_df[\"Wind Speed\"]\n",
    "fig = gmaps.figure(center=(30.0, 31.0), zoom_level=1.5)\n",
    "heat_layer = gmaps.heatmap_layer(locations, weights=wind, dissipating=False, max_intensity=300, point_radius=4)\n",
    "\n",
    "fig.add_layer(heat_layer)\n",
    "# Call the figure to plot the data.\n",
    "fig"
   ]
  },
  {
   "cell_type": "code",
   "execution_count": 16,
   "id": "ce6528e3",
   "metadata": {},
   "outputs": [],
   "source": [
    "# Maximum Temperature Heatmap"
   ]
  },
  {
   "cell_type": "code",
   "execution_count": 17,
   "id": "b3ecaf98",
   "metadata": {},
   "outputs": [
    {
     "name": "stdout",
     "output_type": "stream",
     "text": [
      "     City_ID          City      Lat       Lng  Max Temp  Humidity  Cloudiness  \\\n",
      "0          0  Punta Arenas -53.1500  -70.9167     59.02        41          75   \n",
      "1          1       Fortuna  40.5982 -124.1573     45.52       100          75   \n",
      "2          2       Litovko  49.2361  135.1742    -15.25       100          49   \n",
      "3          3         Pisco -13.7000  -76.2167     71.65        73           0   \n",
      "4          4         Loudi  27.7344  111.9944     50.47        45          32   \n",
      "..       ...           ...      ...       ...       ...       ...         ...   \n",
      "554      554     Ilulissat  69.2167  -51.1000     19.42        63          20   \n",
      "555      555        Qujing  25.4833  103.7833     45.97        88         100   \n",
      "556      556        Zamora  -4.0692  -78.9567     85.24        64          74   \n",
      "557      557   Znamenskoye  57.1281   73.8282     24.94        88         100   \n",
      "558      558         Coari  -4.0850  -63.1414     75.60        92         100   \n",
      "\n",
      "     Wind Speed Country                 Date  \n",
      "0         36.82      CL  2021-12-03 17:03:57  \n",
      "1          8.05      US  2021-12-03 17:03:58  \n",
      "2          1.79      RU  2021-12-03 17:03:58  \n",
      "3          6.91      PE  2021-12-03 17:03:58  \n",
      "4          1.74      CN  2021-12-03 17:03:59  \n",
      "..          ...     ...                  ...  \n",
      "554       21.85      GL  2021-12-03 17:18:39  \n",
      "555        2.82      CN  2021-12-03 17:18:39  \n",
      "556        4.32      EC  2021-12-03 17:18:40  \n",
      "557       12.06      RU  2021-12-03 17:18:40  \n",
      "558        1.88      BR  2021-12-03 17:18:40  \n",
      "\n",
      "[559 rows x 10 columns]\n"
     ]
    }
   ],
   "source": [
    "print(city_data_df)"
   ]
  },
  {
   "cell_type": "code",
   "execution_count": 18,
   "id": "f6c2e46c",
   "metadata": {},
   "outputs": [
    {
     "data": {
      "application/vnd.jupyter.widget-view+json": {
       "model_id": "54e92721dd9948078eae91524c84ff4d",
       "version_major": 2,
       "version_minor": 0
      },
      "text/plain": [
       "Figure(layout=FigureLayout(height='420px'))"
      ]
     },
     "metadata": {},
     "output_type": "display_data"
    }
   ],
   "source": [
    "# Heatmap of temperature\n",
    "# Get the latitude and longitude.\n",
    "locations = city_data_df[[\"Lat\", \"Lng\"]]\n",
    "# Get the maximum temperature.\n",
    "max_temp = city_data_df[\"Max Temp\"]\n",
    "temps = []\n",
    "for temp in max_temp:\n",
    "    temps.append(max(temp, 0))\n",
    "# Assign the figure variable.\n",
    "fig = gmaps.figure(center=(30.0, 31.0), zoom_level=1.5)\n",
    "# Assign the heatmap variable.\n",
    "heat_layer = gmaps.heatmap_layer(locations, weights=[max(temp, 0) for temp in max_temp])\n",
    "# Add the heatmap layer.\n",
    "fig.add_layer(heat_layer)\n",
    "# Call the figure to plot the data.\n",
    "fig"
   ]
  },
  {
   "cell_type": "code",
   "execution_count": 19,
   "id": "4afa5aca",
   "metadata": {},
   "outputs": [],
   "source": [
    "# Get Vacation Criteria"
   ]
  },
  {
   "cell_type": "code",
   "execution_count": 20,
   "id": "6c4b282b",
   "metadata": {},
   "outputs": [
    {
     "name": "stdout",
     "output_type": "stream",
     "text": [
      "What is the minimum temperature you would like for your trip? 70\n",
      "What is the maximum temperature you would like for your trip? 90\n"
     ]
    }
   ],
   "source": [
    "# Ask the customer to add a minimum and maximum temperature value.\n",
    "min_temp = float(input(\"What is the minimum temperature you would like for your trip? \"))\n",
    "max_temp = float(input(\"What is the maximum temperature you would like for your trip? \"))"
   ]
  },
  {
   "cell_type": "code",
   "execution_count": 21,
   "id": "72d1d812",
   "metadata": {},
   "outputs": [
    {
     "data": {
      "text/html": [
       "<div>\n",
       "<style scoped>\n",
       "    .dataframe tbody tr th:only-of-type {\n",
       "        vertical-align: middle;\n",
       "    }\n",
       "\n",
       "    .dataframe tbody tr th {\n",
       "        vertical-align: top;\n",
       "    }\n",
       "\n",
       "    .dataframe thead th {\n",
       "        text-align: right;\n",
       "    }\n",
       "</style>\n",
       "<table border=\"1\" class=\"dataframe\">\n",
       "  <thead>\n",
       "    <tr style=\"text-align: right;\">\n",
       "      <th></th>\n",
       "      <th>City_ID</th>\n",
       "      <th>City</th>\n",
       "      <th>Lat</th>\n",
       "      <th>Lng</th>\n",
       "      <th>Max Temp</th>\n",
       "      <th>Humidity</th>\n",
       "      <th>Cloudiness</th>\n",
       "      <th>Wind Speed</th>\n",
       "      <th>Country</th>\n",
       "      <th>Date</th>\n",
       "    </tr>\n",
       "  </thead>\n",
       "  <tbody>\n",
       "    <tr>\n",
       "      <th>3</th>\n",
       "      <td>3</td>\n",
       "      <td>Pisco</td>\n",
       "      <td>-13.7000</td>\n",
       "      <td>-76.2167</td>\n",
       "      <td>71.65</td>\n",
       "      <td>73</td>\n",
       "      <td>0</td>\n",
       "      <td>6.91</td>\n",
       "      <td>PE</td>\n",
       "      <td>2021-12-03 17:03:58</td>\n",
       "    </tr>\n",
       "    <tr>\n",
       "      <th>6</th>\n",
       "      <td>6</td>\n",
       "      <td>Carnarvon</td>\n",
       "      <td>-24.8667</td>\n",
       "      <td>113.6333</td>\n",
       "      <td>71.67</td>\n",
       "      <td>83</td>\n",
       "      <td>0</td>\n",
       "      <td>19.57</td>\n",
       "      <td>AU</td>\n",
       "      <td>2021-12-03 17:03:59</td>\n",
       "    </tr>\n",
       "    <tr>\n",
       "      <th>8</th>\n",
       "      <td>8</td>\n",
       "      <td>Castro</td>\n",
       "      <td>-24.7911</td>\n",
       "      <td>-50.0119</td>\n",
       "      <td>75.20</td>\n",
       "      <td>56</td>\n",
       "      <td>79</td>\n",
       "      <td>4.21</td>\n",
       "      <td>BR</td>\n",
       "      <td>2021-12-03 17:01:10</td>\n",
       "    </tr>\n",
       "    <tr>\n",
       "      <th>12</th>\n",
       "      <td>12</td>\n",
       "      <td>Puerto Ayora</td>\n",
       "      <td>-0.7393</td>\n",
       "      <td>-90.3518</td>\n",
       "      <td>76.96</td>\n",
       "      <td>78</td>\n",
       "      <td>82</td>\n",
       "      <td>10.65</td>\n",
       "      <td>EC</td>\n",
       "      <td>2021-12-03 17:04:01</td>\n",
       "    </tr>\n",
       "    <tr>\n",
       "      <th>14</th>\n",
       "      <td>14</td>\n",
       "      <td>Rikitea</td>\n",
       "      <td>-23.1203</td>\n",
       "      <td>-134.9692</td>\n",
       "      <td>76.15</td>\n",
       "      <td>76</td>\n",
       "      <td>6</td>\n",
       "      <td>15.61</td>\n",
       "      <td>PF</td>\n",
       "      <td>2021-12-03 17:04:02</td>\n",
       "    </tr>\n",
       "    <tr>\n",
       "      <th>17</th>\n",
       "      <td>17</td>\n",
       "      <td>Thohoyandou</td>\n",
       "      <td>-22.9456</td>\n",
       "      <td>30.4850</td>\n",
       "      <td>85.87</td>\n",
       "      <td>31</td>\n",
       "      <td>5</td>\n",
       "      <td>4.72</td>\n",
       "      <td>ZA</td>\n",
       "      <td>2021-12-03 17:04:02</td>\n",
       "    </tr>\n",
       "    <tr>\n",
       "      <th>18</th>\n",
       "      <td>18</td>\n",
       "      <td>Sao Borja</td>\n",
       "      <td>-28.6606</td>\n",
       "      <td>-56.0044</td>\n",
       "      <td>88.95</td>\n",
       "      <td>28</td>\n",
       "      <td>3</td>\n",
       "      <td>7.02</td>\n",
       "      <td>BR</td>\n",
       "      <td>2021-12-03 17:04:03</td>\n",
       "    </tr>\n",
       "    <tr>\n",
       "      <th>21</th>\n",
       "      <td>21</td>\n",
       "      <td>Takoradi</td>\n",
       "      <td>4.8845</td>\n",
       "      <td>-1.7554</td>\n",
       "      <td>83.08</td>\n",
       "      <td>72</td>\n",
       "      <td>75</td>\n",
       "      <td>9.91</td>\n",
       "      <td>GH</td>\n",
       "      <td>2021-12-03 17:04:04</td>\n",
       "    </tr>\n",
       "    <tr>\n",
       "      <th>24</th>\n",
       "      <td>24</td>\n",
       "      <td>Arraial Do Cabo</td>\n",
       "      <td>-22.9661</td>\n",
       "      <td>-42.0278</td>\n",
       "      <td>78.66</td>\n",
       "      <td>65</td>\n",
       "      <td>20</td>\n",
       "      <td>16.11</td>\n",
       "      <td>BR</td>\n",
       "      <td>2021-12-03 17:04:04</td>\n",
       "    </tr>\n",
       "    <tr>\n",
       "      <th>30</th>\n",
       "      <td>30</td>\n",
       "      <td>Butaritari</td>\n",
       "      <td>3.0707</td>\n",
       "      <td>172.7902</td>\n",
       "      <td>82.15</td>\n",
       "      <td>69</td>\n",
       "      <td>51</td>\n",
       "      <td>15.05</td>\n",
       "      <td>KI</td>\n",
       "      <td>2021-12-03 17:04:06</td>\n",
       "    </tr>\n",
       "  </tbody>\n",
       "</table>\n",
       "</div>"
      ],
      "text/plain": [
       "    City_ID             City      Lat       Lng  Max Temp  Humidity  \\\n",
       "3         3            Pisco -13.7000  -76.2167     71.65        73   \n",
       "6         6        Carnarvon -24.8667  113.6333     71.67        83   \n",
       "8         8           Castro -24.7911  -50.0119     75.20        56   \n",
       "12       12     Puerto Ayora  -0.7393  -90.3518     76.96        78   \n",
       "14       14          Rikitea -23.1203 -134.9692     76.15        76   \n",
       "17       17      Thohoyandou -22.9456   30.4850     85.87        31   \n",
       "18       18        Sao Borja -28.6606  -56.0044     88.95        28   \n",
       "21       21         Takoradi   4.8845   -1.7554     83.08        72   \n",
       "24       24  Arraial Do Cabo -22.9661  -42.0278     78.66        65   \n",
       "30       30       Butaritari   3.0707  172.7902     82.15        69   \n",
       "\n",
       "    Cloudiness  Wind Speed Country                 Date  \n",
       "3            0        6.91      PE  2021-12-03 17:03:58  \n",
       "6            0       19.57      AU  2021-12-03 17:03:59  \n",
       "8           79        4.21      BR  2021-12-03 17:01:10  \n",
       "12          82       10.65      EC  2021-12-03 17:04:01  \n",
       "14           6       15.61      PF  2021-12-03 17:04:02  \n",
       "17           5        4.72      ZA  2021-12-03 17:04:02  \n",
       "18           3        7.02      BR  2021-12-03 17:04:03  \n",
       "21          75        9.91      GH  2021-12-03 17:04:04  \n",
       "24          20       16.11      BR  2021-12-03 17:04:04  \n",
       "30          51       15.05      KI  2021-12-03 17:04:06  "
      ]
     },
     "execution_count": 21,
     "metadata": {},
     "output_type": "execute_result"
    }
   ],
   "source": [
    "# Filter the dataset to find the cities that fit the criteria.\n",
    "preferred_cities_df = city_data_df.loc[(city_data_df[\"Max Temp\"] <= max_temp) & \\\n",
    "                                       (city_data_df[\"Max Temp\"] >= min_temp)]\n",
    "preferred_cities_df.head(10)"
   ]
  },
  {
   "cell_type": "code",
   "execution_count": 22,
   "id": "de0494ea",
   "metadata": {},
   "outputs": [
    {
     "data": {
      "text/plain": [
       "City_ID       201\n",
       "City          201\n",
       "Lat           201\n",
       "Lng           201\n",
       "Max Temp      201\n",
       "Humidity      201\n",
       "Cloudiness    201\n",
       "Wind Speed    201\n",
       "Country       201\n",
       "Date          201\n",
       "dtype: int64"
      ]
     },
     "execution_count": 22,
     "metadata": {},
     "output_type": "execute_result"
    }
   ],
   "source": [
    "# How would you determine if there are any null values for the rows in the preferred_cities_df DataFrame? \n",
    "preferred_cities_df.notnull().sum()"
   ]
  },
  {
   "cell_type": "code",
   "execution_count": 23,
   "id": "e20215f1",
   "metadata": {},
   "outputs": [
    {
     "data": {
      "text/plain": [
       "City_ID       201\n",
       "City          201\n",
       "Lat           201\n",
       "Lng           201\n",
       "Max Temp      201\n",
       "Humidity      201\n",
       "Cloudiness    201\n",
       "Wind Speed    201\n",
       "Country       201\n",
       "Date          201\n",
       "dtype: int64"
      ]
     },
     "execution_count": 23,
     "metadata": {},
     "output_type": "execute_result"
    }
   ],
   "source": [
    "preferred_cities_df.count()"
   ]
  },
  {
   "cell_type": "code",
   "execution_count": 24,
   "id": "0338a497",
   "metadata": {},
   "outputs": [
    {
     "data": {
      "text/plain": [
       "City_ID       0\n",
       "City          0\n",
       "Lat           0\n",
       "Lng           0\n",
       "Max Temp      0\n",
       "Humidity      0\n",
       "Cloudiness    0\n",
       "Wind Speed    0\n",
       "Country       0\n",
       "Date          0\n",
       "dtype: int64"
      ]
     },
     "execution_count": 24,
     "metadata": {},
     "output_type": "execute_result"
    }
   ],
   "source": [
    "preferred_cities_df.isnull().sum()"
   ]
  },
  {
   "cell_type": "code",
   "execution_count": 25,
   "id": "1e1fe480",
   "metadata": {},
   "outputs": [
    {
     "data": {
      "text/html": [
       "<div>\n",
       "<style scoped>\n",
       "    .dataframe tbody tr th:only-of-type {\n",
       "        vertical-align: middle;\n",
       "    }\n",
       "\n",
       "    .dataframe tbody tr th {\n",
       "        vertical-align: top;\n",
       "    }\n",
       "\n",
       "    .dataframe thead th {\n",
       "        text-align: right;\n",
       "    }\n",
       "</style>\n",
       "<table border=\"1\" class=\"dataframe\">\n",
       "  <thead>\n",
       "    <tr style=\"text-align: right;\">\n",
       "      <th></th>\n",
       "      <th>City_ID</th>\n",
       "      <th>City</th>\n",
       "      <th>Lat</th>\n",
       "      <th>Lng</th>\n",
       "      <th>Max Temp</th>\n",
       "      <th>Humidity</th>\n",
       "      <th>Cloudiness</th>\n",
       "      <th>Wind Speed</th>\n",
       "      <th>Country</th>\n",
       "      <th>Date</th>\n",
       "    </tr>\n",
       "  </thead>\n",
       "  <tbody>\n",
       "    <tr>\n",
       "      <th>3</th>\n",
       "      <td>3</td>\n",
       "      <td>Pisco</td>\n",
       "      <td>-13.7000</td>\n",
       "      <td>-76.2167</td>\n",
       "      <td>71.65</td>\n",
       "      <td>73</td>\n",
       "      <td>0</td>\n",
       "      <td>6.91</td>\n",
       "      <td>PE</td>\n",
       "      <td>2021-12-03 17:03:58</td>\n",
       "    </tr>\n",
       "    <tr>\n",
       "      <th>6</th>\n",
       "      <td>6</td>\n",
       "      <td>Carnarvon</td>\n",
       "      <td>-24.8667</td>\n",
       "      <td>113.6333</td>\n",
       "      <td>71.67</td>\n",
       "      <td>83</td>\n",
       "      <td>0</td>\n",
       "      <td>19.57</td>\n",
       "      <td>AU</td>\n",
       "      <td>2021-12-03 17:03:59</td>\n",
       "    </tr>\n",
       "    <tr>\n",
       "      <th>8</th>\n",
       "      <td>8</td>\n",
       "      <td>Castro</td>\n",
       "      <td>-24.7911</td>\n",
       "      <td>-50.0119</td>\n",
       "      <td>75.20</td>\n",
       "      <td>56</td>\n",
       "      <td>79</td>\n",
       "      <td>4.21</td>\n",
       "      <td>BR</td>\n",
       "      <td>2021-12-03 17:01:10</td>\n",
       "    </tr>\n",
       "    <tr>\n",
       "      <th>12</th>\n",
       "      <td>12</td>\n",
       "      <td>Puerto Ayora</td>\n",
       "      <td>-0.7393</td>\n",
       "      <td>-90.3518</td>\n",
       "      <td>76.96</td>\n",
       "      <td>78</td>\n",
       "      <td>82</td>\n",
       "      <td>10.65</td>\n",
       "      <td>EC</td>\n",
       "      <td>2021-12-03 17:04:01</td>\n",
       "    </tr>\n",
       "    <tr>\n",
       "      <th>14</th>\n",
       "      <td>14</td>\n",
       "      <td>Rikitea</td>\n",
       "      <td>-23.1203</td>\n",
       "      <td>-134.9692</td>\n",
       "      <td>76.15</td>\n",
       "      <td>76</td>\n",
       "      <td>6</td>\n",
       "      <td>15.61</td>\n",
       "      <td>PF</td>\n",
       "      <td>2021-12-03 17:04:02</td>\n",
       "    </tr>\n",
       "    <tr>\n",
       "      <th>...</th>\n",
       "      <td>...</td>\n",
       "      <td>...</td>\n",
       "      <td>...</td>\n",
       "      <td>...</td>\n",
       "      <td>...</td>\n",
       "      <td>...</td>\n",
       "      <td>...</td>\n",
       "      <td>...</td>\n",
       "      <td>...</td>\n",
       "      <td>...</td>\n",
       "    </tr>\n",
       "    <tr>\n",
       "      <th>544</th>\n",
       "      <td>544</td>\n",
       "      <td>Acapulco</td>\n",
       "      <td>16.8634</td>\n",
       "      <td>-99.8901</td>\n",
       "      <td>84.02</td>\n",
       "      <td>58</td>\n",
       "      <td>75</td>\n",
       "      <td>0.00</td>\n",
       "      <td>MX</td>\n",
       "      <td>2021-12-03 17:17:36</td>\n",
       "    </tr>\n",
       "    <tr>\n",
       "      <th>545</th>\n",
       "      <td>545</td>\n",
       "      <td>Adre</td>\n",
       "      <td>13.4667</td>\n",
       "      <td>22.2000</td>\n",
       "      <td>79.54</td>\n",
       "      <td>21</td>\n",
       "      <td>0</td>\n",
       "      <td>6.96</td>\n",
       "      <td>TD</td>\n",
       "      <td>2021-12-03 17:17:37</td>\n",
       "    </tr>\n",
       "    <tr>\n",
       "      <th>549</th>\n",
       "      <td>549</td>\n",
       "      <td>San Andres</td>\n",
       "      <td>12.5847</td>\n",
       "      <td>-81.7006</td>\n",
       "      <td>84.22</td>\n",
       "      <td>79</td>\n",
       "      <td>75</td>\n",
       "      <td>17.27</td>\n",
       "      <td>CO</td>\n",
       "      <td>2021-12-03 17:18:38</td>\n",
       "    </tr>\n",
       "    <tr>\n",
       "      <th>556</th>\n",
       "      <td>556</td>\n",
       "      <td>Zamora</td>\n",
       "      <td>-4.0692</td>\n",
       "      <td>-78.9567</td>\n",
       "      <td>85.24</td>\n",
       "      <td>64</td>\n",
       "      <td>74</td>\n",
       "      <td>4.32</td>\n",
       "      <td>EC</td>\n",
       "      <td>2021-12-03 17:18:40</td>\n",
       "    </tr>\n",
       "    <tr>\n",
       "      <th>558</th>\n",
       "      <td>558</td>\n",
       "      <td>Coari</td>\n",
       "      <td>-4.0850</td>\n",
       "      <td>-63.1414</td>\n",
       "      <td>75.60</td>\n",
       "      <td>92</td>\n",
       "      <td>100</td>\n",
       "      <td>1.88</td>\n",
       "      <td>BR</td>\n",
       "      <td>2021-12-03 17:18:40</td>\n",
       "    </tr>\n",
       "  </tbody>\n",
       "</table>\n",
       "<p>201 rows × 10 columns</p>\n",
       "</div>"
      ],
      "text/plain": [
       "     City_ID          City      Lat       Lng  Max Temp  Humidity  Cloudiness  \\\n",
       "3          3         Pisco -13.7000  -76.2167     71.65        73           0   \n",
       "6          6     Carnarvon -24.8667  113.6333     71.67        83           0   \n",
       "8          8        Castro -24.7911  -50.0119     75.20        56          79   \n",
       "12        12  Puerto Ayora  -0.7393  -90.3518     76.96        78          82   \n",
       "14        14       Rikitea -23.1203 -134.9692     76.15        76           6   \n",
       "..       ...           ...      ...       ...       ...       ...         ...   \n",
       "544      544      Acapulco  16.8634  -99.8901     84.02        58          75   \n",
       "545      545          Adre  13.4667   22.2000     79.54        21           0   \n",
       "549      549    San Andres  12.5847  -81.7006     84.22        79          75   \n",
       "556      556        Zamora  -4.0692  -78.9567     85.24        64          74   \n",
       "558      558         Coari  -4.0850  -63.1414     75.60        92         100   \n",
       "\n",
       "     Wind Speed Country                 Date  \n",
       "3          6.91      PE  2021-12-03 17:03:58  \n",
       "6         19.57      AU  2021-12-03 17:03:59  \n",
       "8          4.21      BR  2021-12-03 17:01:10  \n",
       "12        10.65      EC  2021-12-03 17:04:01  \n",
       "14        15.61      PF  2021-12-03 17:04:02  \n",
       "..          ...     ...                  ...  \n",
       "544        0.00      MX  2021-12-03 17:17:36  \n",
       "545        6.96      TD  2021-12-03 17:17:37  \n",
       "549       17.27      CO  2021-12-03 17:18:38  \n",
       "556        4.32      EC  2021-12-03 17:18:40  \n",
       "558        1.88      BR  2021-12-03 17:18:40  \n",
       "\n",
       "[201 rows x 10 columns]"
      ]
     },
     "execution_count": 25,
     "metadata": {},
     "output_type": "execute_result"
    }
   ],
   "source": [
    "preferred_cities_df.dropna()"
   ]
  },
  {
   "cell_type": "code",
   "execution_count": 26,
   "id": "13b0d51f",
   "metadata": {},
   "outputs": [],
   "source": [
    "# Map Vacation Criteria"
   ]
  },
  {
   "cell_type": "code",
   "execution_count": 27,
   "id": "49736f25",
   "metadata": {},
   "outputs": [
    {
     "data": {
      "text/html": [
       "<div>\n",
       "<style scoped>\n",
       "    .dataframe tbody tr th:only-of-type {\n",
       "        vertical-align: middle;\n",
       "    }\n",
       "\n",
       "    .dataframe tbody tr th {\n",
       "        vertical-align: top;\n",
       "    }\n",
       "\n",
       "    .dataframe thead th {\n",
       "        text-align: right;\n",
       "    }\n",
       "</style>\n",
       "<table border=\"1\" class=\"dataframe\">\n",
       "  <thead>\n",
       "    <tr style=\"text-align: right;\">\n",
       "      <th></th>\n",
       "      <th>City</th>\n",
       "      <th>Country</th>\n",
       "      <th>Max Temp</th>\n",
       "      <th>Lat</th>\n",
       "      <th>Lng</th>\n",
       "      <th>Hotel Name</th>\n",
       "    </tr>\n",
       "  </thead>\n",
       "  <tbody>\n",
       "    <tr>\n",
       "      <th>3</th>\n",
       "      <td>Pisco</td>\n",
       "      <td>PE</td>\n",
       "      <td>71.65</td>\n",
       "      <td>-13.7000</td>\n",
       "      <td>-76.2167</td>\n",
       "      <td></td>\n",
       "    </tr>\n",
       "    <tr>\n",
       "      <th>6</th>\n",
       "      <td>Carnarvon</td>\n",
       "      <td>AU</td>\n",
       "      <td>71.67</td>\n",
       "      <td>-24.8667</td>\n",
       "      <td>113.6333</td>\n",
       "      <td></td>\n",
       "    </tr>\n",
       "    <tr>\n",
       "      <th>8</th>\n",
       "      <td>Castro</td>\n",
       "      <td>BR</td>\n",
       "      <td>75.20</td>\n",
       "      <td>-24.7911</td>\n",
       "      <td>-50.0119</td>\n",
       "      <td></td>\n",
       "    </tr>\n",
       "    <tr>\n",
       "      <th>12</th>\n",
       "      <td>Puerto Ayora</td>\n",
       "      <td>EC</td>\n",
       "      <td>76.96</td>\n",
       "      <td>-0.7393</td>\n",
       "      <td>-90.3518</td>\n",
       "      <td></td>\n",
       "    </tr>\n",
       "    <tr>\n",
       "      <th>14</th>\n",
       "      <td>Rikitea</td>\n",
       "      <td>PF</td>\n",
       "      <td>76.15</td>\n",
       "      <td>-23.1203</td>\n",
       "      <td>-134.9692</td>\n",
       "      <td></td>\n",
       "    </tr>\n",
       "    <tr>\n",
       "      <th>17</th>\n",
       "      <td>Thohoyandou</td>\n",
       "      <td>ZA</td>\n",
       "      <td>85.87</td>\n",
       "      <td>-22.9456</td>\n",
       "      <td>30.4850</td>\n",
       "      <td></td>\n",
       "    </tr>\n",
       "    <tr>\n",
       "      <th>18</th>\n",
       "      <td>Sao Borja</td>\n",
       "      <td>BR</td>\n",
       "      <td>88.95</td>\n",
       "      <td>-28.6606</td>\n",
       "      <td>-56.0044</td>\n",
       "      <td></td>\n",
       "    </tr>\n",
       "    <tr>\n",
       "      <th>21</th>\n",
       "      <td>Takoradi</td>\n",
       "      <td>GH</td>\n",
       "      <td>83.08</td>\n",
       "      <td>4.8845</td>\n",
       "      <td>-1.7554</td>\n",
       "      <td></td>\n",
       "    </tr>\n",
       "    <tr>\n",
       "      <th>24</th>\n",
       "      <td>Arraial Do Cabo</td>\n",
       "      <td>BR</td>\n",
       "      <td>78.66</td>\n",
       "      <td>-22.9661</td>\n",
       "      <td>-42.0278</td>\n",
       "      <td></td>\n",
       "    </tr>\n",
       "    <tr>\n",
       "      <th>30</th>\n",
       "      <td>Butaritari</td>\n",
       "      <td>KI</td>\n",
       "      <td>82.15</td>\n",
       "      <td>3.0707</td>\n",
       "      <td>172.7902</td>\n",
       "      <td></td>\n",
       "    </tr>\n",
       "  </tbody>\n",
       "</table>\n",
       "</div>"
      ],
      "text/plain": [
       "               City Country  Max Temp      Lat       Lng Hotel Name\n",
       "3             Pisco      PE     71.65 -13.7000  -76.2167           \n",
       "6         Carnarvon      AU     71.67 -24.8667  113.6333           \n",
       "8            Castro      BR     75.20 -24.7911  -50.0119           \n",
       "12     Puerto Ayora      EC     76.96  -0.7393  -90.3518           \n",
       "14          Rikitea      PF     76.15 -23.1203 -134.9692           \n",
       "17      Thohoyandou      ZA     85.87 -22.9456   30.4850           \n",
       "18        Sao Borja      BR     88.95 -28.6606  -56.0044           \n",
       "21         Takoradi      GH     83.08   4.8845   -1.7554           \n",
       "24  Arraial Do Cabo      BR     78.66 -22.9661  -42.0278           \n",
       "30       Butaritari      KI     82.15   3.0707  172.7902           "
      ]
     },
     "execution_count": 27,
     "metadata": {},
     "output_type": "execute_result"
    }
   ],
   "source": [
    "# Create DataFrame called hotel_df to store hotel names along with city, country, max temp, and coordinates.\n",
    "hotel_df = preferred_cities_df[[\"City\", \"Country\", \"Max Temp\", \"Lat\", \"Lng\"]].copy()\n",
    "hotel_df[\"Hotel Name\"] = \"\"\n",
    "hotel_df.head(10)"
   ]
  },
  {
   "cell_type": "code",
   "execution_count": 28,
   "id": "59db393b",
   "metadata": {},
   "outputs": [
    {
     "name": "stdout",
     "output_type": "stream",
     "text": [
      "Hotel not found... skipping.\n",
      "Hotel not found... skipping.\n"
     ]
    }
   ],
   "source": [
    "# Iterate through the DataFrame.\n",
    "for index, row in hotel_df.iterrows():\n",
    "    # Get the latitude and longitude.\n",
    "    lat = row[\"Lat\"]\n",
    "    lng = row[\"Lng\"]\n",
    "\n",
    "    # Add the latitude and longitude to location key for the params dictionary.\n",
    "    params = {\n",
    "        \"location\": f\"{lat},{lng}\",\n",
    "        \"radius\": 5000,\n",
    "        \"types\" : \"hotel\",\n",
    "        \"key\": g_key\n",
    "    }\n",
    "\n",
    "    # Use the search term: \"lodging\" and our latitude and longitude.\n",
    "    base_url = \"https://maps.googleapis.com/maps/api/place/nearbysearch/json\"\n",
    "    \n",
    "    # Make request and get the JSON data from the search.\n",
    "    hotels = requests.get(base_url, params=params).json()\n",
    "    \n",
    "    # Grab the first hotel from the results and store the name.\n",
    "    #hotel_df.loc[index, \"Hotel Name\"] = hotels[\"results\"][0][\"name\"]\n",
    "    \n",
    "    # Grab the first hotel from the results and store the name.\n",
    "    try:\n",
    "        hotel_df.loc[index, \"Hotel Name\"] = hotels[\"results\"][0][\"name\"]\n",
    "    except (IndexError):\n",
    "        print(\"Hotel not found... skipping.\") "
   ]
  },
  {
   "cell_type": "code",
   "execution_count": 29,
   "id": "22ae9e4d",
   "metadata": {},
   "outputs": [
    {
     "data": {
      "application/vnd.jupyter.widget-view+json": {
       "model_id": "613c3e7136384912a24371692e3fbfea",
       "version_major": 2,
       "version_minor": 0
      },
      "text/plain": [
       "Figure(layout=FigureLayout(height='420px'))"
      ]
     },
     "metadata": {},
     "output_type": "display_data"
    }
   ],
   "source": [
    "# Add a heatmap of temperature for the vacation spots.\n",
    "locations = hotel_df[[\"Lat\", \"Lng\"]]\n",
    "max_temp = hotel_df[\"Max Temp\"]\n",
    "fig = gmaps.figure(center=(30.0, 31.0), zoom_level=1.5)\n",
    "heat_layer = gmaps.heatmap_layer(locations, weights=max_temp, dissipating=False,\n",
    "             max_intensity=300, point_radius=4)\n",
    "\n",
    "fig.add_layer(heat_layer)\n",
    "# Call the figure to plot the data.\n",
    "fig"
   ]
  },
  {
   "cell_type": "code",
   "execution_count": 30,
   "id": "180e6445",
   "metadata": {},
   "outputs": [
    {
     "data": {
      "application/vnd.jupyter.widget-view+json": {
       "model_id": "7f36f55c6e4141ba9c1fd519616d0b1b",
       "version_major": 2,
       "version_minor": 0
      },
      "text/plain": [
       "Figure(layout=FigureLayout(height='420px'))"
      ]
     },
     "metadata": {},
     "output_type": "display_data"
    }
   ],
   "source": [
    "# Add a heatmap of temperature for the vacation spots and marker for each city.\n",
    "locations = hotel_df[[\"Lat\", \"Lng\"]]\n",
    "max_temp = hotel_df[\"Max Temp\"]\n",
    "fig = gmaps.figure(center=(30.0, 31.0), zoom_level=1.5)\n",
    "heat_layer = gmaps.heatmap_layer(locations, weights=max_temp,\n",
    "             dissipating=False, max_intensity=300, point_radius=4)\n",
    "marker_layer = gmaps.marker_layer(locations)\n",
    "fig.add_layer(heat_layer)\n",
    "fig.add_layer(marker_layer)\n",
    "# Call the figure to plot the data.\n",
    "fig"
   ]
  },
  {
   "cell_type": "code",
   "execution_count": 31,
   "id": "a43ea2c4",
   "metadata": {},
   "outputs": [],
   "source": [
    "# text inside multiline string HTML code. \n",
    "# HTML code is defined by the opening and closing the angular brackets (e.g., <tag> and <tag/>). \n",
    "\n",
    "# Using the template add the hotel marks to the heatmap\n",
    "info_box_template = \"\"\"\n",
    "<dl>\n",
    "<dt>Hotel Name</dt><dd>{Hotel Name}</dd>\n",
    "<dt>City</dt><dd>{City}</dd>\n",
    "<dt>Country</dt><dd>{Country}</dd>\n",
    "<dt>Max Temp</dt><dd>{Max Temp} °F</dd>\n",
    "</dl>\n",
    "\"\"\"\n",
    "\n",
    "# Store the DataFrame Row.\n",
    "hotel_info = [info_box_template.format(**row) for index, row in hotel_df.iterrows()]"
   ]
  },
  {
   "cell_type": "code",
   "execution_count": 32,
   "id": "1dd9afaa",
   "metadata": {},
   "outputs": [
    {
     "data": {
      "application/vnd.jupyter.widget-view+json": {
       "model_id": "b5cd175ad47c41e5b1c808ef68201bde",
       "version_major": 2,
       "version_minor": 0
      },
      "text/plain": [
       "Figure(layout=FigureLayout(height='420px'))"
      ]
     },
     "metadata": {},
     "output_type": "display_data"
    }
   ],
   "source": [
    "# Add a heatmap of temperature for the vacation spots and a pop-up marker for each city.\n",
    "locations = hotel_df[[\"Lat\", \"Lng\"]]\n",
    "max_temp = hotel_df[\"Max Temp\"]\n",
    "fig = gmaps.figure(center=(30.0, 31.0), zoom_level=1.5)\n",
    "heat_layer = gmaps.heatmap_layer(locations, weights=max_temp,dissipating=False,\n",
    "             max_intensity=300, point_radius=4)\n",
    "marker_layer = gmaps.marker_layer(locations, info_box_content=hotel_info)\n",
    "fig.add_layer(heat_layer)\n",
    "fig.add_layer(marker_layer)\n",
    "\n",
    "# Call the figure to plot the data.\n",
    "fig"
   ]
  }
 ],
 "metadata": {
  "kernelspec": {
   "display_name": "Python 3 (ipykernel)",
   "language": "python",
   "name": "python3"
  },
  "language_info": {
   "codemirror_mode": {
    "name": "ipython",
    "version": 3
   },
   "file_extension": ".py",
   "mimetype": "text/x-python",
   "name": "python",
   "nbconvert_exporter": "python",
   "pygments_lexer": "ipython3",
   "version": "3.8.8"
  }
 },
 "nbformat": 4,
 "nbformat_minor": 5
}
